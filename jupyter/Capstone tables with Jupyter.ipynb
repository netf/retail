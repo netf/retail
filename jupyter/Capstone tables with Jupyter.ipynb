{
 "cells": [
  {
   "cell_type": "markdown",
   "metadata": {},
   "source": [
    "# Welcome to This Jupyter example\n",
    "You simply type stuff in the \"In\" boxes, and it the play button.  You can also it shift-enter to play the box.  The cell menu lets you click multiple boxes.   This sort of thing can be the future of our self-paced spark spark training.\n"
   ]
  },
  {
   "cell_type": "code",
   "execution_count": 2,
   "metadata": {
    "collapsed": false
   },
   "outputs": [],
   "source": [
    "val x = sc.cassandraTable(\"retail\",\"products_by_id\")"
   ]
  },
  {
   "cell_type": "code",
   "execution_count": 3,
   "metadata": {
    "collapsed": false
   },
   "outputs": [
    {
     "data": {
      "text/plain": [
       "Array(CassandraRow{product_id: KDL-40W4000, category_id: 1078, category_name: LCD TVs, features: null, long_description: &lt;br/&gt;&lt;br/&gt;When you are not watching TV, turn it into a digital picture frame with the fantastic Picture Frame Mode. Fill the black hole in your living room by using your TV to display your own pictures or the 6 pre-installed images.&lt;br/&gt;nExperience incredibly clear and defined images with BRAVIA ENGINE 2 picture enhancement technology and Advanced Contrast Enhancer.&lt;br/&gt;nIt's easy to use your TV screen to view your digital photographs with USB Photo Viewer and with PhotoTV HD you can see them in superb High Definition quality.&lt;br/&gt;nNo more confusing menu screens thanks to our easy-t..."
      ]
     },
     "execution_count": 3,
     "metadata": {},
     "output_type": "execute_result"
    }
   ],
   "source": [
    "x.take(2)\n"
   ]
  },
  {
   "cell_type": "markdown",
   "metadata": {},
   "source": [
    "## Some Case Class Example with some markdown\n",
    "Lets look at the stores table"
   ]
  },
  {
   "cell_type": "code",
   "execution_count": 4,
   "metadata": {
    "collapsed": true
   },
   "outputs": [],
   "source": [
    "case class Store(\n",
    "                  store_id: Int,\n",
    "                  address: String,\n",
    "                  address_2: String,\n",
    "                  address_3: String,\n",
    "                  city: String,\n",
    "                  state: String,\n",
    "                  zip: Long,\n",
    "                  size_in_sf: Int)"
   ]
  },
  {
   "cell_type": "markdown",
   "metadata": {},
   "source": [
    "## RDD based on the store table"
   ]
  },
  {
   "cell_type": "code",
   "execution_count": 5,
   "metadata": {
    "collapsed": true
   },
   "outputs": [],
   "source": [
    "   val stores = sc.cassandraTable(\"retail\",\"stores\").select(\"store_id\",\"address\",\n",
    "      \"address_2\",\"address_3\",\"city\",\"state\",\"zip\",\"size_in_sf\"\n",
    "    ).as(Store)\n"
   ]
  },
  {
   "cell_type": "code",
   "execution_count": 7,
   "metadata": {
    "collapsed": false
   },
   "outputs": [
    {
     "data": {
      "text/plain": [
       "Array(Store(23,KENNEWICKCOLUMBIA CTR 013383,405 COLUMBIA CTR,null,KENNEWICK,WA,99336,2250), Store(114,GREENVILLECOLONIAL MALL 012330,COLONIAL MALL,714 GREENVILLE BLV SE #F8,GREENVILLE,NC,27858,2617))"
      ]
     },
     "execution_count": 7,
     "metadata": {},
     "output_type": "execute_result"
    }
   ],
   "source": [
    "stores.take(2)"
   ]
  },
  {
   "cell_type": "markdown",
   "metadata": {},
   "source": [
    "## Another RDD based on receipts.  \n",
    "### No case class as it's only two columns"
   ]
  },
  {
   "cell_type": "code",
   "execution_count": 8,
   "metadata": {
    "collapsed": true
   },
   "outputs": [],
   "source": [
    "val receipts = sc.cassandraTable(\"retail\",\"receipts_by_store_date\")"
   ]
  },
  {
   "cell_type": "code",
   "execution_count": 9,
   "metadata": {
    "collapsed": false
   },
   "outputs": [],
   "source": [
    "import scala.math.BigDecimal.RoundingMode\n",
    "\n",
    "val total_receipts_by_store = receipts.map(r => (r.getInt(\"store_id\"), r.getDecimal(\"receipt_total\").setScale(2,RoundingMode.HALF_EVEN) )  ).reduceByKey(_+_)   // Add up by store"
   ]
  },
  {
   "cell_type": "code",
   "execution_count": null,
   "metadata": {
    "collapsed": false
   },
   "outputs": [],
   "source": [
    "total_receipts_by_store take 10 foreach println"
   ]
  }
 ],
 "metadata": {
  "kernelspec": {
   "display_name": "Spark 1.2.1 (Scala 2.10.4)",
   "language": "scala",
   "name": "spark"
  },
  "language_info": {
   "name": "scala"
  }
 },
 "nbformat": 4,
 "nbformat_minor": 0
}
