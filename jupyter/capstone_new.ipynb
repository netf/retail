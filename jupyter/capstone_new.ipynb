{
 "cells": [
  {
   "cell_type": "markdown",
   "metadata": {},
   "source": [
    "# Welcome to This Jupyter example\n",
    "You simply type stuff in the \"In\" boxes, and it the play button.  You can also it shift-enter to play the box.  The cell menu lets you click multiple boxes.   This sort of thing can be the future of our self-paced spark spark training.\n"
   ]
  },
  {
   "cell_type": "code",
   "execution_count": 4,
   "metadata": {
    "collapsed": false
   },
   "outputs": [],
   "source": [
    "val x = sc.cassandraTable(\"retail\",\"products_by_id\")"
   ]
  },
  {
   "cell_type": "markdown",
   "metadata": {},
   "source": [
    "receipt_id bigint,\n",
    "    scan_id timeuuid,\n",
    "    credit_card_number bigint static,\n",
    "    credit_card_type text static,\n",
    "    product_id text,\n",
    "    product_name text,\n",
    "    quantity int,\n",
    "    receipt_timestamp timestamp static,\n",
    "    receipt_total decimal static,\n",
    "    register_id int static,\n",
    "    solr_query text,\n",
    "    store_id int static,\n",
    "    total decimal,\n",
    "    unit_price decimal,\n"
   ]
  },
  {
   "cell_type": "code",
   "execution_count": 258,
   "metadata": {
    "collapsed": false
   },
   "outputs": [],
   "source": [
    "case class Receipts(\n",
    "    receipt_id: String,\n",
    "    scan_id: String,\n",
    "    receipt_timestamp: Option[String],\n",
    "    receipt_total: Option[String],\n",
    "    store_id: Option[String]\n",
    "    \n",
    ")"
   ]
  },
  {
   "cell_type": "markdown",
   "metadata": {},
   "source": [
    " scan_id timeuuid,\n",
    "    receipt_timestamp timestamp,\n",
    "    receipt_total decimal,\n",
    "    store_id int,\n"
   ]
  },
  {
   "cell_type": "code",
   "execution_count": 86,
   "metadata": {
    "collapsed": true
   },
   "outputs": [],
   "source": [
    "val receipts = sc.cassandraTable(\"retail\",\"receipts\").select(\"receipt_id\",\"credit_card_number\",\"scan_id\",\"receipt_timestamp\",\"receipt_total\",\"store_id\").as(Receipts)"
   ]
  },
  {
   "cell_type": "code",
   "execution_count": 87,
   "metadata": {
    "collapsed": false
   },
   "outputs": [
    {
     "data": {
      "text/plain": [
       "Long = 351677"
      ]
     },
     "execution_count": 87,
     "metadata": {},
     "output_type": "execute_result"
    }
   ],
   "source": [
    "receipts.count"
   ]
  },
  {
   "cell_type": "code",
   "execution_count": 155,
   "metadata": {
    "collapsed": false
   },
   "outputs": [
    {
     "data": {
      "text/plain": [
       "Name: Compile Error\n",
       "Message: <console>:21: error: value receipt_id is not a member of String\n",
       "       val total_credit_card = receipts.map( x => (x.receipt_id, x.credit_card_number, x.scan_id, x.receipt_timestamp, x.receipt_total, x.store_id)).distinct()\n",
       "                                                     ^\n",
       "StackTrace: "
      ]
     },
     "execution_count": 155,
     "metadata": {},
     "output_type": "execute_result"
    }
   ],
   "source": [
    "val total_credit_card = receipts.map( x => (x.receipt_id, x.credit_card_number, x.scan_id, x.receipt_timestamp, x.receipt_total, x.store_id)).distinct()"
   ]
  },
  {
   "cell_type": "code",
   "execution_count": 91,
   "metadata": {
    "collapsed": false
   },
   "outputs": [
    {
     "data": {
      "text/plain": [
       "Array[(String, String, String, String, String, String)] = Array((1444803402917,4716605562641,23998a14-723b-11e5-b4bd-8b496c707234,2015-02-01 17:30:36+0000,2499.77,393), (1444802830615,373994855939263,ce93e753-7239-11e5-b4bd-8b496c707234,2015-02-01 19:30:29+0000,1329.8,227), (1444691779674,5310231762049760,3f4b7d45-7137-11e5-9cc1-8b496c707234,2015-02-02 01:23:49+0000,1989.72,154), (1444798582375,5579704434928179,ea4380f2-722f-11e5-b4bd-8b496c707234,2015-02-01 23:12:02+0000,1609.72,368), (1444802771407,4916549559527,ab5f9ae7-7239-11e5-b4bd-8b496c707234,2015-02-02 02:41:45+0000,619.83,123), (1444691684673,371964228082366,065ff4c3-7137-11e5-9cc1-8b496c707234,2015-02-01 16:58:09+0000,999.77,223), (1444691209220,4556768116938,eb367c12-7135-11e5-9cc1-8b496c707234,2015-02-01 23:57:31+000..."
      ]
     },
     "execution_count": 91,
     "metadata": {},
     "output_type": "execute_result"
    }
   ],
   "source": [
    "total_credit_card.take(20)"
   ]
  },
  {
   "cell_type": "code",
   "execution_count": 163,
   "metadata": {
    "collapsed": true
   },
   "outputs": [],
   "source": [
    "case class Customers(\n",
    "    id: Option[String]\n",
    ")"
   ]
  },
  {
   "cell_type": "code",
   "execution_count": 164,
   "metadata": {
    "collapsed": true
   },
   "outputs": [],
   "source": [
    "val customers = sc.cassandraTable(\"retail\",\"customers\").select(\"id\").map(x => x.getString(0))"
   ]
  },
  {
   "cell_type": "code",
   "execution_count": 165,
   "metadata": {
    "collapsed": true
   },
   "outputs": [],
   "source": [
    "val customers_with_key = customers.zipWithIndex().map(_.swap)"
   ]
  },
  {
   "cell_type": "code",
   "execution_count": 166,
   "metadata": {
    "collapsed": false
   },
   "outputs": [
    {
     "name": "stdout",
     "output_type": "stream",
     "text": [
      "(0,dbc3347c-b5e2-4dda-b13d-47c3dc627ad0)\n",
      "(1,a8e06888-519f-4a74-8bad-06e0dfbc7183)\n",
      "(2,8b427fb1-1649-4d68-91ac-5a487fac0f6f)\n",
      "(3,d17b4671-5034-456b-9843-906e70a63dd6)\n",
      "(4,a2032764-a809-4338-8c10-94e6afd89e20)\n",
      "(5,e05ce9bf-aaa8-4f49-bc4f-6c9b8a688cc1)\n",
      "(6,45140371-5ea7-4392-aa66-b8d69f001d84)\n",
      "(7,f7596900-68a9-4452-a5a4-a2f811b3a755)\n",
      "(8,4d743b08-9f06-4d29-a344-1955e4f11d8a)\n",
      "(9,737a3465-8655-40c8-8df8-969e08f11f4f)\n"
     ]
    }
   ],
   "source": [
    "customers_with_key.take(10).foreach(println)"
   ]
  },
  {
   "cell_type": "code",
   "execution_count": null,
   "metadata": {
    "collapsed": false
   },
   "outputs": [],
   "source": []
  },
  {
   "cell_type": "code",
   "execution_count": null,
   "metadata": {
    "collapsed": false
   },
   "outputs": [],
   "source": [
    "x.take(2)\n"
   ]
  },
  {
   "cell_type": "markdown",
   "metadata": {},
   "source": [
    "make a link between customer and receipt"
   ]
  },
  {
   "cell_type": "code",
   "execution_count": 259,
   "metadata": {
    "collapsed": false
   },
   "outputs": [],
   "source": [
    "val receipts_with_key = sc.cassandraTable(\"retail\",\"receipts\").select(\"receipt_id\",\"scan_id\",\"receipt_timestamp\",\"receipt_total\",\"store_id\").as(Receipts).map(x => (((x.receipt_id + x.scan_id).hashCode() % 5000).abs.toLong, (x.receipt_id, x.scan_id, x.receipt_timestamp, x.receipt_total, x.store_id)))"
   ]
  },
  {
   "cell_type": "code",
   "execution_count": 262,
   "metadata": {
    "collapsed": false
   },
   "outputs": [
    {
     "name": "stdout",
     "output_type": "stream",
     "text": [
      "(2397,(1444798652898,14506d47-7230-11e5-b4bd-8b496c707234,Some(2015-02-01 19:55:15+0000),Some(1249.8500000000001),Some(247)))\n",
      "(4931,(1444798652898,145c5421-7230-11e5-b4bd-8b496c707234,Some(2015-02-01 19:55:15+0000),Some(1249.8500000000001),Some(247)))\n",
      "(2906,(1444798652898,14697380-7230-11e5-b4bd-8b496c707234,Some(2015-02-01 19:55:15+0000),Some(1249.8500000000001),Some(247)))\n",
      "(1923,(1444798652898,14881f1b-7230-11e5-b4bd-8b496c707234,Some(2015-02-01 19:55:15+0000),Some(1249.8500000000001),Some(247)))\n",
      "(2519,(1444798638448,0bb44b71-7230-11e5-b4bd-8b496c707234,Some(2015-02-01 22:03:46+0000),Some(919.9200000000001),Some(390)))\n",
      "(3741,(1444798638448,0bc08078-7230-11e5-b4bd-8b496c707234,Some(2015-02-01 22:03:46+0000),Some(919.9200000000001),Some(390)))\n",
      "(2060,(1444798638448,0bcb55e3-7230-11e5-b4bd-8b496c707234,Some(2015-02-01 22:03:46+0000),Some(919.9200000000001),Some(390)))\n",
      "(106,(1444691285048,18165e82-7136-11e5-9cc1-8b496c707234,Some(2015-02-03 01:53:13+0000),Some(149.95),Some(188)))\n",
      "(1205,(1444853412094,93532092-72af-11e5-b4bd-8b496c707234,Some(2015-02-02 00:37:49+0000),Some(849.9000000000001),Some(163)))\n",
      "(2319,(1444853412094,93591402-72af-11e5-b4bd-8b496c707234,Some(2015-02-02 00:37:49+0000),Some(849.9000000000001),Some(163)))\n"
     ]
    },
    {
     "data": {
      "text/plain": [
       "Long = 351677"
      ]
     },
     "execution_count": 262,
     "metadata": {},
     "output_type": "execute_result"
    }
   ],
   "source": [
    "receipts_with_key.take(10).foreach(println)\n",
    "receipts_with_key.count()"
   ]
  },
  {
   "cell_type": "code",
   "execution_count": 263,
   "metadata": {
    "collapsed": false
   },
   "outputs": [],
   "source": [
    "val receipts_by_customer = receipts_with_key.join(customers_with_key).map{ case (x,y) => y}.map(_.swap)"
   ]
  },
  {
   "cell_type": "markdown",
   "metadata": {},
   "source": [
    "## Some Case Class Example with some markdown\n",
    "Lets look at the stores table"
   ]
  },
  {
   "cell_type": "code",
   "execution_count": 264,
   "metadata": {
    "collapsed": false
   },
   "outputs": [
    {
     "data": {
      "text/plain": [
       "Long = 351677"
      ]
     },
     "execution_count": 264,
     "metadata": {},
     "output_type": "execute_result"
    }
   ],
   "source": [
    "receipts_by_customer.count()"
   ]
  },
  {
   "cell_type": "code",
   "execution_count": 265,
   "metadata": {
    "collapsed": false
   },
   "outputs": [
    {
     "data": {
      "text/plain": [
       "Name: org.apache.spark.SparkException\n",
       "Message: Job aborted due to stage failure: Task 1 in stage 231.0 failed 1 times, most recent failure: Lost task 1.0 in stage 231.0 (TID 276, localhost): java.io.IOException: Failed to write statements to retail.receipts_by_customer.\n",
       "\tat com.datastax.spark.connector.writer.TableWriter$$anonfun$write$1.apply(TableWriter.scala:164)\n",
       "\tat com.datastax.spark.connector.writer.TableWriter$$anonfun$write$1.apply(TableWriter.scala:139)\n",
       "\tat com.datastax.spark.connector.cql.CassandraConnector$$anonfun$withSessionDo$1.apply(CassandraConnector.scala:110)\n",
       "\tat com.datastax.spark.connector.cql.CassandraConnector$$anonfun$withSessionDo$1.apply(CassandraConnector.scala:109)\n",
       "\tat com.datastax.spark.connector.cql.CassandraConnector.closeResourceAfterUse(CassandraConnector.scala:139)\n",
       "\tat com.datastax.spark.connector.cql.CassandraConnector.withSessionDo(CassandraConnector.scala:109)\n",
       "\tat com.datastax.spark.connector.writer.TableWriter.write(TableWriter.scala:139)\n",
       "\tat com.datastax.spark.connector.RDDFunctions$$anonfun$saveToCassandra$1.apply(RDDFunctions.scala:37)\n",
       "\tat com.datastax.spark.connector.RDDFunctions$$anonfun$saveToCassandra$1.apply(RDDFunctions.scala:37)\n",
       "\tat org.apache.spark.scheduler.ResultTask.runTask(ResultTask.scala:63)\n",
       "\tat org.apache.spark.scheduler.Task.run(Task.scala:70)\n",
       "\tat org.apache.spark.executor.Executor$TaskRunner.run(Executor.scala:213)\n",
       "\tat java.util.concurrent.ThreadPoolExecutor.runWorker(ThreadPoolExecutor.java:1142)\n",
       "\tat java.util.concurrent.ThreadPoolExecutor$Worker.run(ThreadPoolExecutor.java:617)\n",
       "\tat java.lang.Thread.run(Thread.java:745)\n",
       "\n",
       "Driver stacktrace:\n",
       "StackTrace: org.apache.spark.scheduler.DAGScheduler.org$apache$spark$scheduler$DAGScheduler$$failJobAndIndependentStages(DAGScheduler.scala:1273)\n",
       "org.apache.spark.scheduler.DAGScheduler$$anonfun$abortStage$1.apply(DAGScheduler.scala:1264)\n",
       "org.apache.spark.scheduler.DAGScheduler$$anonfun$abortStage$1.apply(DAGScheduler.scala:1263)\n",
       "scala.collection.mutable.ResizableArray$class.foreach(ResizableArray.scala:59)\n",
       "scala.collection.mutable.ArrayBuffer.foreach(ArrayBuffer.scala:47)\n",
       "org.apache.spark.scheduler.DAGScheduler.abortStage(DAGScheduler.scala:1263)\n",
       "org.apache.spark.scheduler.DAGScheduler$$anonfun$handleTaskSetFailed$1.apply(DAGScheduler.scala:730)\n",
       "org.apache.spark.scheduler.DAGScheduler$$anonfun$handleTaskSetFailed$1.apply(DAGScheduler.scala:730)\n",
       "scala.Option.foreach(Option.scala:236)\n",
       "org.apache.spark.scheduler.DAGScheduler.handleTaskSetFailed(DAGScheduler.scala:730)\n",
       "org.apache.spark.scheduler.DAGSchedulerEventProcessLoop.onReceive(DAGScheduler.scala:1457)\n",
       "org.apache.spark.scheduler.DAGSchedulerEventProcessLoop.onReceive(DAGScheduler.scala:1418)\n",
       "org.apache.spark.util.EventLoop$$anon$1.run(EventLoop.scala:48)"
      ]
     },
     "execution_count": 265,
     "metadata": {},
     "output_type": "execute_result"
    }
   ],
   "source": [
    "receipts_by_customer.map{case (k,(a,b,c,d,e)) => (k,a,b,c,d,e)}.saveToCassandra(\"retail\",\"receipts_by_customer\", SomeColumns(\"customer_id\",\"receipt_id\",\"scan_id\",\"receipt_timestamp\",\"receipt_total\",\"store_id\"))"
   ]
  },
  {
   "cell_type": "code",
   "execution_count": 272,
   "metadata": {
    "collapsed": true
   },
   "outputs": [],
   "source": [
    "case class R (\n",
    "    customer_id: String,\n",
    "    receipt_id: String,\n",
    "    store_id: String\n",
    ")"
   ]
  },
  {
   "cell_type": "code",
   "execution_count": 273,
   "metadata": {
    "collapsed": true
   },
   "outputs": [],
   "source": [
    "val customer_receipt_store = sc.cassandraTable(\"retail\",\"receipts_by_customer\").select(\"customer_id\",\"receipt_id\",\"store_id\").as(R)"
   ]
  },
  {
   "cell_type": "code",
   "execution_count": 307,
   "metadata": {
    "collapsed": false
   },
   "outputs": [
    {
     "data": {
      "text/plain": [
       "Name: Compile Error\n",
       "Message: <console>:23: error: missing parameter type\n",
       "       val top_customers = customer_receipt_store.map(x => (x.customer_id, x.receipt_id, x.store_id)).map{case (a,b,c) => (a,(c,1))}.groupByKey().aggregateByKey(x=> (x))\n",
       "                                                                                                                                                                 ^\n",
       "StackTrace: "
      ]
     },
     "execution_count": 307,
     "metadata": {},
     "output_type": "execute_result"
    }
   ],
   "source": [
    "val top_customers = customer_receipt_store.map(x => (x.customer_id, x.receipt_id, x.store_id)).map{case (a,b,c) => (a,(c,1))}.groupByKey().aggregateByKey(x=> (x))"
   ]
  },
  {
   "cell_type": "code",
   "execution_count": 304,
   "metadata": {
    "collapsed": false
   },
   "outputs": [
    {
     "name": "stdout",
     "output_type": "stream",
     "text": [
      "(13af184b-986f-4f6f-8d7f-5218705833cc,CompactBuffer((306,1), (110,1), (42,1), (193,1), (221,1), (68,1), (248,1), (153,1), (211,1), (219,1), (263,1), (351,1), (96,1), (118,1), (375,1), (34,1), (121,1), (363,1), (99,1), (218,1), (166,1), (44,1), (40,1), (126,1), (400,1), (240,1), (165,1), (97,1), (181,1), (291,1), (249,1), (332,1), (383,1), (192,1), (194,1), (312,1), (84,1), (299,1), (303,1), (213,1), (33,1), (272,1), (123,1), (192,1), (348,1), (49,1), (307,1), (161,1), (41,1), (237,1), (286,1), (105,1), (309,1), (131,1), (46,1), (112,1), (89,1), (344,1), (303,1), (157,1), (186,1), (50,1), (117,1), (188,1), (38,1), (26,1), (18,1), (223,1), (144,1), (131,1), (133,1), (134,1), (174,1), (31,1), (272,1)))\n",
      "(8663238b-5247-42e3-bea5-4738591c6cb8,CompactBuffer((121,1), (373,1), (38,1), (6,1), (218,1), (309,1), (130,1), (243,1), (393,1), (347,1), (399,1), (177,1), (80,1), (70,1), (277,1), (353,1), (189,1), (14,1), (207,1), (80,1), (37,1), (26,1), (104,1), (334,1), (240,1), (87,1), (165,1), (324,1), (337,1), (98,1), (271,1), (211,1), (26,1), (260,1), (169,1), (207,1), (350,1), (396,1), (389,1), (64,1), (363,1), (240,1), (289,1), (332,1), (142,1), (112,1), (320,1), (149,1), (296,1), (99,1), (329,1), (209,1), (340,1), (48,1), (72,1), (94,1), (175,1), (245,1), (142,1), (164,1), (360,1), (349,1), (366,1), (341,1)))\n",
      "(fe00f223-52fd-4f15-af4f-d23cdf47979f,CompactBuffer((25,1), (332,1), (310,1), (67,1), (93,1), (194,1), (386,1), (216,1), (132,1), (326,1), (233,1), (287,1), (373,1), (70,1), (269,1), (18,1), (65,1), (44,1), (106,1), (238,1), (86,1), (254,1), (7,1), (202,1), (13,1), (214,1), (377,1), (169,1), (101,1), (113,1), (60,1), (248,1), (125,1), (196,1), (40,1), (null,1), (208,1), (61,1), (266,1), (75,1), (286,1), (107,1), (20,1), (271,1), (307,1), (377,1), (147,1), (248,1), (316,1), (296,1), (367,1), (213,1), (108,1), (208,1), (363,1), (322,1), (281,1), (332,1), (306,1), (25,1), (134,1), (200,1), (180,1), (74,1), (263,1), (329,1), (70,1), (10,1)))\n",
      "(94673cff-9103-431f-b274-7bad5d28f6fa,CompactBuffer((188,1), (381,1), (110,1), (177,1), (7,1), (48,1), (293,1), (320,1), (198,1), (256,1), (372,1), (311,1), (241,1), (211,1), (142,1), (306,1), (229,1), (287,1), (59,1), (246,1), (157,1), (151,1), (370,1), (90,1), (372,1), (216,1), (195,1), (238,1), (155,1), (379,1), (64,1), (302,1), (29,1), (24,1), (57,1), (242,1), (168,1), (122,1), (400,1), (239,1), (361,1), (101,1), (112,1), (298,1), (333,1), (348,1), (250,1), (17,1), (2,1), (230,1), (296,1), (209,1), (142,1), (207,1), (331,1), (292,1), (303,1), (207,1), (248,1), (144,1), (7,1), (139,1), (359,1), (393,1), (9,1), (219,1), (94,1), (303,1), (352,1), (182,1), (79,1), (96,1), (320,1)))\n"
     ]
    }
   ],
   "source": [
    "top_customers.take(4).foreach(println)"
   ]
  },
  {
   "cell_type": "code",
   "execution_count": null,
   "metadata": {
    "collapsed": true
   },
   "outputs": [],
   "source": [
    "case class Store(\n",
    "                  store_id: Int,\n",
    "                  address: String,\n",
    "                  address_2: String,\n",
    "                  address_3: String,\n",
    "                  city: String,\n",
    "                  state: String,\n",
    "                  zip: Long,\n",
    "                  size_in_sf: Int)"
   ]
  },
  {
   "cell_type": "code",
   "execution_count": null,
   "metadata": {
    "collapsed": true
   },
   "outputs": [],
   "source": []
  },
  {
   "cell_type": "code",
   "execution_count": null,
   "metadata": {
    "collapsed": true
   },
   "outputs": [],
   "source": []
  },
  {
   "cell_type": "markdown",
   "metadata": {},
   "source": [
    "## RDD based on the store table"
   ]
  },
  {
   "cell_type": "code",
   "execution_count": null,
   "metadata": {
    "collapsed": true
   },
   "outputs": [],
   "source": [
    "   val stores = sc.cassandraTable(\"retail\",\"stores\").select(\"store_id\",\"address\",\n",
    "      \"address_2\",\"address_3\",\"city\",\"state\",\"zip\",\"size_in_sf\"\n",
    "    ).as(Store)\n"
   ]
  },
  {
   "cell_type": "code",
   "execution_count": null,
   "metadata": {
    "collapsed": false
   },
   "outputs": [],
   "source": [
    "stores.take(2)"
   ]
  },
  {
   "cell_type": "markdown",
   "metadata": {},
   "source": [
    "## Another RDD based on receipts.  \n",
    "### No case class as it's only two columns"
   ]
  },
  {
   "cell_type": "code",
   "execution_count": null,
   "metadata": {
    "collapsed": true
   },
   "outputs": [],
   "source": [
    "val receipts = sc.cassandraTable(\"retail\",\"receipts_by_store_date\")"
   ]
  },
  {
   "cell_type": "code",
   "execution_count": null,
   "metadata": {
    "collapsed": false
   },
   "outputs": [],
   "source": [
    "import scala.math.BigDecimal.RoundingMode\n",
    "\n",
    "val total_receipts_by_store = receipts.map(r => (r.getInt(\"store_id\"), r.getDecimal(\"receipt_total\").setScale(2,RoundingMode.HALF_EVEN) )  ).reduceByKey(_+_)   // Add up by store"
   ]
  },
  {
   "cell_type": "code",
   "execution_count": null,
   "metadata": {
    "collapsed": false
   },
   "outputs": [],
   "source": [
    "total_receipts_by_store take 10 foreach println"
   ]
  }
 ],
 "metadata": {
  "kernelspec": {
   "display_name": "Spark-Cassandra (Scala 2.10.4)",
   "language": "scala",
   "name": "spark"
  },
  "language_info": {
   "name": "scala"
  }
 },
 "nbformat": 4,
 "nbformat_minor": 0
}
